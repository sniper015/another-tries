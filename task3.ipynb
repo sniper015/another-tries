{
 "cells": [
  {
   "cell_type": "code",
   "execution_count": 25,
   "metadata": {},
   "outputs": [
    {
     "ename": "IndentationError",
     "evalue": "expected an indented block (<ipython-input-25-547f5953e382>, line 2)",
     "output_type": "error",
     "traceback": [
      "\u001b[1;36m  File \u001b[1;32m\"<ipython-input-25-547f5953e382>\"\u001b[1;36m, line \u001b[1;32m2\u001b[0m\n\u001b[1;33m    if num1 > num2 :\u001b[0m\n\u001b[1;37m     ^\u001b[0m\n\u001b[1;31mIndentationError\u001b[0m\u001b[1;31m:\u001b[0m expected an indented block\n"
     ]
    }
   ],
   "source": [
    "def max_two_numbers(num1,num2):\n",
    "if num1 > num2 :\n",
    "    return (num1)\n",
    "    else : \n",
    "        return (num2)\n",
    "def max_three_numbers(num1,num2,num3): \n",
    "    m = def max_two_numbers(num1,num2)\n",
    "    fin = def max_two_numbers(m,num3)\n",
    "    return(fin)\n",
    "num1 = input('please, enter first number')\n",
    "num2 = input('please, enter first number')\n",
    "num3 = input('please, enter first number')\n",
    "res =  max_three_numbers(num1,num2,num3)\n",
    "print('MAX', res)\n",
    "\n"
   ]
  },
  {
   "cell_type": "code",
   "execution_count": null,
   "metadata": {},
   "outputs": [],
   "source": []
  },
  {
   "cell_type": "code",
   "execution_count": null,
   "metadata": {},
   "outputs": [],
   "source": [
    "df\n"
   ]
  }
 ],
 "metadata": {
  "kernelspec": {
   "display_name": "Python 3",
   "language": "python",
   "name": "python3"
  },
  "language_info": {
   "codemirror_mode": {
    "name": "ipython",
    "version": 3
   },
   "file_extension": ".py",
   "mimetype": "text/x-python",
   "name": "python",
   "nbconvert_exporter": "python",
   "pygments_lexer": "ipython3",
   "version": "3.7.1"
  }
 },
 "nbformat": 4,
 "nbformat_minor": 2
}
